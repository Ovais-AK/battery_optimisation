{
 "cells": [
  {
   "cell_type": "code",
   "execution_count": 122,
   "metadata": {},
   "outputs": [],
   "source": [
    "import numpy as np\n",
    "import pandas as pd\n",
    "import datetime as dt\n",
    "import pyomo.environ as pyo"
   ]
  },
  {
   "cell_type": "markdown",
   "metadata": {},
   "source": [
    "**Source of test data**\n",
    "\n",
    "Half-hour price data is taken from the GB day-ahead auction for 2022 sourced through N2EX. "
   ]
  },
  {
   "cell_type": "code",
   "execution_count": 205,
   "metadata": {},
   "outputs": [
    {
     "name": "stderr",
     "output_type": "stream",
     "text": [
      "C:\\Users\\ovais\\AppData\\Local\\Temp\\ipykernel_24004\\1923840718.py:7: FutureWarning: Downcasting object dtype arrays on .fillna, .ffill, .bfill is deprecated and will change in a future version. Call result.infer_objects(copy=False) instead. To opt-in to the future behavior, set `pd.set_option('future.no_silent_downcasting', True)`\n",
      "  df.ffill(inplace=True)\n"
     ]
    }
   ],
   "source": [
    "# test price curve\n",
    "df = pd.read_excel('Data/auction-prices22.xls')\n",
    "df = df.iloc[:,1:26]\n",
    "df.rename(columns = df.iloc[4,:], inplace = True)\n",
    "df.drop([0,1,2,3,4], inplace = True)\n",
    "df.drop(['3B'], axis = 1, inplace = True)\n",
    "df.ffill(inplace=True)\n",
    "df = df.stack().reset_index().drop(columns = ['level_0','level_1']).set_axis([\"Price (GBP/MWh)\"], axis = 1)\n",
    "\n",
    "hour = list(range(1,len(df)+1)) \n",
    "df.insert(loc=0, column = \"Hour\", value = hour)\n",
    "\n",
    "time_range = pd.date_range(dt.datetime(2022, 1, 1), dt.datetime(2023,1,2), freq='1h')[1:]\n",
    "df.set_index(time_range, inplace = True)"
   ]
  },
  {
   "cell_type": "code",
   "execution_count": 206,
   "metadata": {},
   "outputs": [
    {
     "data": {
      "text/html": [
       "<div>\n",
       "<style scoped>\n",
       "    .dataframe tbody tr th:only-of-type {\n",
       "        vertical-align: middle;\n",
       "    }\n",
       "\n",
       "    .dataframe tbody tr th {\n",
       "        vertical-align: top;\n",
       "    }\n",
       "\n",
       "    .dataframe thead th {\n",
       "        text-align: right;\n",
       "    }\n",
       "</style>\n",
       "<table border=\"1\" class=\"dataframe\">\n",
       "  <thead>\n",
       "    <tr style=\"text-align: right;\">\n",
       "      <th></th>\n",
       "      <th>Hour</th>\n",
       "      <th>Price (GBP/MWh)</th>\n",
       "    </tr>\n",
       "  </thead>\n",
       "  <tbody>\n",
       "    <tr>\n",
       "      <th>2022-01-01 01:00:00</th>\n",
       "      <td>1</td>\n",
       "      <td>115.95</td>\n",
       "    </tr>\n",
       "    <tr>\n",
       "      <th>2022-01-01 02:00:00</th>\n",
       "      <td>2</td>\n",
       "      <td>149.98</td>\n",
       "    </tr>\n",
       "    <tr>\n",
       "      <th>2022-01-01 03:00:00</th>\n",
       "      <td>3</td>\n",
       "      <td>99.99</td>\n",
       "    </tr>\n",
       "    <tr>\n",
       "      <th>2022-01-01 04:00:00</th>\n",
       "      <td>4</td>\n",
       "      <td>25.05</td>\n",
       "    </tr>\n",
       "    <tr>\n",
       "      <th>2022-01-01 05:00:00</th>\n",
       "      <td>5</td>\n",
       "      <td>7.85</td>\n",
       "    </tr>\n",
       "  </tbody>\n",
       "</table>\n",
       "</div>"
      ],
      "text/plain": [
       "                     Hour  Price (GBP/MWh)\n",
       "2022-01-01 01:00:00     1           115.95\n",
       "2022-01-01 02:00:00     2           149.98\n",
       "2022-01-01 03:00:00     3            99.99\n",
       "2022-01-01 04:00:00     4            25.05\n",
       "2022-01-01 05:00:00     5             7.85"
      ]
     },
     "execution_count": 206,
     "metadata": {},
     "output_type": "execute_result"
    }
   ],
   "source": [
    "df.head()"
   ]
  },
  {
   "cell_type": "markdown",
   "metadata": {},
   "source": [
    "**Parameters**\n",
    "\n",
    "* t: timestep\n",
    "* R_max: maximum power output/input\n",
    "* S_max: maximum battery capacity\n",
    "* F_charge: charge efficiency\n",
    "* F_discharge: discharge efficiency\n",
    "* Pt: spot price at time t\n",
    "* S_t: storage at time t\n",
    "\n",
    "**Decision variables**\n",
    "* E_charge: Energy outtake at time t\n",
    "* E_discharge: Energy intake at time t\n",
    "\n",
    "**Constraints**\n",
    "* St = St-1 + Eff_in*Ein - Eout/Eff_out\n",
    "* for all t, St > 0\n",
    "* for all t, St <= Smax\n",
    "* for all t, Ein <= Rmax\n",
    "* for all t, Eout <= Rmax\n",
    "* for all t, Eout <= St\n",
    "\n",
    "\n"
   ]
  },
  {
   "cell_type": "code",
   "execution_count": 204,
   "metadata": {},
   "outputs": [
    {
     "ename": "SyntaxError",
     "evalue": "invalid syntax (2094773453.py, line 21)",
     "output_type": "error",
     "traceback": [
      "\u001b[1;36m  Cell \u001b[1;32mIn[204], line 21\u001b[1;36m\u001b[0m\n\u001b[1;33m    model.c1 = Constraint(expr = model.)\u001b[0m\n\u001b[1;37m                                       ^\u001b[0m\n\u001b[1;31mSyntaxError\u001b[0m\u001b[1;31m:\u001b[0m invalid syntax\n"
     ]
    }
   ],
   "source": [
    "model = pyo.AbstractModel()\n",
    "\n",
    "# battery parameters\n",
    "model.T = pyo.Set(initialize = hour, ordered = True,\n",
    "                  doc = 'hour')\n",
    "model.Rmax = pyo.Param(initialize = 100, within = NonNegativeReals,\n",
    "                      doc = 'Power capacity. Max rate of charge/discharge. (MW)')\n",
    "model.Smax = pyo.Param(initialize = 200, within = NonNegativeReals,\n",
    "                   doc = 'Energy capacity. Max state of charge. (MWh)')\n",
    "model.F_charge = pyo.Param(initialize = 0.95, bounds = (0,1),\n",
    "                       doc = 'Charging efficiency (%)')\n",
    "model.F_discharge = pyo.Param(initialize = 0.95, bounds = (0,1),\n",
    "                           doc = 'Discharging efficiency')\n",
    "model.P = pyo.Param(initialize = df[\"Price (GBP/MWh)\"].to_list())\n",
    "\n",
    "# optimisation variables\n",
    "model.E_charge = pyo.Var(model.T, domain = NonNegativeReals,\n",
    "                     doc = \"Energy charged at hour 't' (MWh)\")\n",
    "model.E_discharge = pyo.Var(model.T, domain = NonNegativeReals,\n",
    "                        doc = \"Energy discharged at hour 't' (MWh)\")\n",
    "model.S = pyo.Var(model.T, bounds=(0, model.Smax),\n",
    "              doc = \"State of charge at hour 't' (MWh)\")\n",
    "\n",
    "# battery constraints\n",
    "def state_of_charge(model, t):\n",
    "    \"\"\"\n",
    "    At hour 't', the state of charge (SOC) is the SOC from hour 't-1'\n",
    "    plus the net flow of energy into the battery, accounting for efficiency loss.\n",
    "    \"\"\"\n",
    "    if t == 1:\n",
    "        return model.S[t] == 0\n",
    "    else:\n",
    "        return model.S[t] == (model.S[t-1]) \\\n",
    "                             + (model.E_charge[t-1] * model.F_charge) \\\n",
    "                             - (model.E_discharge[t-1] * model.F_charge)\n",
    "    \n",
    "model.state_of_charge = pyo.Constraint(model.T, rule = state_of_charge)\n",
    "    \n",
    "\n",
    "def charge_constraint(model, t):\n",
    "    \"\"\"\n",
    "    The battery charges up to the power capacity for any hour t.\n",
    "    \"\"\"\n",
    "    return model.E_charge[t] <= model.Rmax\n",
    "\n",
    "model.charge = pyo.Constraint(model.T, rule = charge_constraint)\n",
    "\n",
    "\n",
    "def discharge_constraint(model, t):\n",
    "    \"\"\"\n",
    "    The battery discharges up to the power capacity for any hour t.\n",
    "    \"\"\"\n",
    "    return model.E_discharge[t] <= model.Rmax\n",
    "\n",
    "model.discharge = pyo.Constraint(model.T, rule = discharge_constraint)\n",
    "\n",
    "\n",
    "#  battery constrained to not discharge when SOC is 0  \n",
    "def postive_charge(model, t):\n",
    "    \"\"\"\n",
    "    Limit discharge to amount of charge in battery, including losses\n",
    "    \"\"\"\n",
    "    return model.E_discharge[t] <= model.S[t] * model.F_discharge\n",
    "\n",
    "\n",
    "# objective function\n",
    "\n",
    "\n",
    "\n",
    "# def objective_function(model):\n",
    "#     return summation(model.)\n"
   ]
  },
  {
   "cell_type": "code",
   "execution_count": 4,
   "metadata": {},
   "outputs": [
    {
     "data": {
      "text/plain": [
       "<pyomo.core.base.PyomoModel.ConcreteModel at 0x1fc5c452e00>"
      ]
     },
     "execution_count": 4,
     "metadata": {},
     "output_type": "execute_result"
    }
   ],
   "source": []
  }
 ],
 "metadata": {
  "kernelspec": {
   "display_name": "battery-optimisation",
   "language": "python",
   "name": "python3"
  },
  "language_info": {
   "codemirror_mode": {
    "name": "ipython",
    "version": 3
   },
   "file_extension": ".py",
   "mimetype": "text/x-python",
   "name": "python",
   "nbconvert_exporter": "python",
   "pygments_lexer": "ipython3",
   "version": "3.9.18"
  }
 },
 "nbformat": 4,
 "nbformat_minor": 2
}
